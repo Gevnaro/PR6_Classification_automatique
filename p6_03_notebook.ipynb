{
 "cells": [
  {
   "cell_type": "code",
   "execution_count": 1,
   "id": "2d012c40",
   "metadata": {},
   "outputs": [],
   "source": [
    "# Importation des plusieurs librairie \n",
    "import pandas as pd\n",
    "import numpy as np\n",
    "import matplotlib.pyplot as plt\n",
    "import seaborn as sns\n",
    "\n",
    "from sklearn.model_selection import train_test_split\n",
    "from sklearn.preprocessing import StandardScaler\n",
    "# from sklearn.naive_bayes import MultinomialNB\n",
    "# from sklearn.model_selection import GridSearchCV\n",
    "# from sklearn.svm import SVC\n",
    "# from sklearn.linear_model import LogisticRegression\n",
    "# from sklearn.preprocessing import OneHotEncoder\n",
    "from sklearn.metrics import accuracy_score\n",
    "\n",
    "import PIL, cv2\n",
    "from PIL import Image, ImageOps\n",
    "from scipy.ndimage import gaussian_filter\n",
    "\n",
    "import tensorflow as tf\n",
    "from tensorflow import keras\n",
    "from tensorflow.keras import layers\n",
    "from tensorflow.keras.models import Sequential, Model\n",
    "from tensorflow.keras.layers import Dense, Flatten, Conv2D, MaxPool2D, Dropout\n",
    "from tensorflow.keras.utils import to_categorical\n",
    "from keras.models import model_from_json"
   ]
  },
  {
   "cell_type": "code",
   "execution_count": 2,
   "id": "8d7ee2e5",
   "metadata": {},
   "outputs": [],
   "source": [
    "# Importation du dataset avec les 3 catégories différentes \n",
    "df = pd.read_csv(\"dataset_categories.csv\")"
   ]
  },
  {
   "cell_type": "code",
   "execution_count": 3,
   "id": "552398cf",
   "metadata": {},
   "outputs": [],
   "source": [
    "df.drop(columns='Unnamed: 0',inplace=True)"
   ]
  },
  {
   "cell_type": "code",
   "execution_count": 4,
   "id": "492d6db8",
   "metadata": {},
   "outputs": [],
   "source": [
    "# Creation d'une copie\n",
    "data = df.copy()"
   ]
  },
  {
   "cell_type": "code",
   "execution_count": 5,
   "id": "ce1e4971",
   "metadata": {},
   "outputs": [
    {
     "data": {
      "text/html": [
       "<div>\n",
       "<style scoped>\n",
       "    .dataframe tbody tr th:only-of-type {\n",
       "        vertical-align: middle;\n",
       "    }\n",
       "\n",
       "    .dataframe tbody tr th {\n",
       "        vertical-align: top;\n",
       "    }\n",
       "\n",
       "    .dataframe thead th {\n",
       "        text-align: right;\n",
       "    }\n",
       "</style>\n",
       "<table border=\"1\" class=\"dataframe\">\n",
       "  <thead>\n",
       "    <tr style=\"text-align: right;\">\n",
       "      <th></th>\n",
       "      <th>description</th>\n",
       "      <th>image</th>\n",
       "      <th>category_general</th>\n",
       "    </tr>\n",
       "  </thead>\n",
       "  <tbody>\n",
       "    <tr>\n",
       "      <th>0</th>\n",
       "      <td>Key Features of Elegance Polyester Multicolor ...</td>\n",
       "      <td>55b85ea15a1536d46b7190ad6fff8ce7.jpg</td>\n",
       "      <td>Home Furnishing</td>\n",
       "    </tr>\n",
       "    <tr>\n",
       "      <th>1</th>\n",
       "      <td>Specifications of Sathiyas Cotton Bath Towel (...</td>\n",
       "      <td>7b72c92c2f6c40268628ec5f14c6d590.jpg</td>\n",
       "      <td>Baby Care</td>\n",
       "    </tr>\n",
       "    <tr>\n",
       "      <th>2</th>\n",
       "      <td>Key Features of Eurospa Cotton Terry Face Towe...</td>\n",
       "      <td>64d5d4a258243731dc7bbb1eef49ad74.jpg</td>\n",
       "      <td>Baby Care</td>\n",
       "    </tr>\n",
       "    <tr>\n",
       "      <th>3</th>\n",
       "      <td>Key Features of SANTOSH ROYAL FASHION Cotton P...</td>\n",
       "      <td>d4684dcdc759dd9cdf41504698d737d8.jpg</td>\n",
       "      <td>Home Furnishing</td>\n",
       "    </tr>\n",
       "    <tr>\n",
       "      <th>4</th>\n",
       "      <td>Key Features of Jaipur Print Cotton Floral Kin...</td>\n",
       "      <td>6325b6870c54cd47be6ebfbffa620ec7.jpg</td>\n",
       "      <td>Home Furnishing</td>\n",
       "    </tr>\n",
       "    <tr>\n",
       "      <th>...</th>\n",
       "      <td>...</td>\n",
       "      <td>...</td>\n",
       "      <td>...</td>\n",
       "    </tr>\n",
       "    <tr>\n",
       "      <th>1045</th>\n",
       "      <td>Oren Empower Extra Large Self Adhesive Sticker...</td>\n",
       "      <td>958f54f4c46b53c8a0a9b8167d9140bc.jpg</td>\n",
       "      <td>Baby Care</td>\n",
       "    </tr>\n",
       "    <tr>\n",
       "      <th>1046</th>\n",
       "      <td>Wallmantra Large Vinyl Sticker Sticker (Pack o...</td>\n",
       "      <td>fd6cbcc22efb6b761bd564c28928483c.jpg</td>\n",
       "      <td>Baby Care</td>\n",
       "    </tr>\n",
       "    <tr>\n",
       "      <th>1047</th>\n",
       "      <td>Buy Uberlyfe Extra Large Pigmented Polyvinyl F...</td>\n",
       "      <td>5912e037d12774bb73a2048f35a00009.jpg</td>\n",
       "      <td>Baby Care</td>\n",
       "    </tr>\n",
       "    <tr>\n",
       "      <th>1048</th>\n",
       "      <td>Buy Wallmantra Medium Vinyl Sticker Sticker fo...</td>\n",
       "      <td>c3edc504d1b4f0ba6224fa53a43a7ad6.jpg</td>\n",
       "      <td>Baby Care</td>\n",
       "    </tr>\n",
       "    <tr>\n",
       "      <th>1049</th>\n",
       "      <td>Buy Uberlyfe Large Vinyl Sticker for Rs.595 on...</td>\n",
       "      <td>f2f027ad6a6df617c9f125173da71e44.jpg</td>\n",
       "      <td>Baby Care</td>\n",
       "    </tr>\n",
       "  </tbody>\n",
       "</table>\n",
       "<p>1050 rows × 3 columns</p>\n",
       "</div>"
      ],
      "text/plain": [
       "                                            description  \\\n",
       "0     Key Features of Elegance Polyester Multicolor ...   \n",
       "1     Specifications of Sathiyas Cotton Bath Towel (...   \n",
       "2     Key Features of Eurospa Cotton Terry Face Towe...   \n",
       "3     Key Features of SANTOSH ROYAL FASHION Cotton P...   \n",
       "4     Key Features of Jaipur Print Cotton Floral Kin...   \n",
       "...                                                 ...   \n",
       "1045  Oren Empower Extra Large Self Adhesive Sticker...   \n",
       "1046  Wallmantra Large Vinyl Sticker Sticker (Pack o...   \n",
       "1047  Buy Uberlyfe Extra Large Pigmented Polyvinyl F...   \n",
       "1048  Buy Wallmantra Medium Vinyl Sticker Sticker fo...   \n",
       "1049  Buy Uberlyfe Large Vinyl Sticker for Rs.595 on...   \n",
       "\n",
       "                                     image category_general  \n",
       "0     55b85ea15a1536d46b7190ad6fff8ce7.jpg  Home Furnishing  \n",
       "1     7b72c92c2f6c40268628ec5f14c6d590.jpg        Baby Care  \n",
       "2     64d5d4a258243731dc7bbb1eef49ad74.jpg        Baby Care  \n",
       "3     d4684dcdc759dd9cdf41504698d737d8.jpg  Home Furnishing  \n",
       "4     6325b6870c54cd47be6ebfbffa620ec7.jpg  Home Furnishing  \n",
       "...                                    ...              ...  \n",
       "1045  958f54f4c46b53c8a0a9b8167d9140bc.jpg        Baby Care  \n",
       "1046  fd6cbcc22efb6b761bd564c28928483c.jpg        Baby Care  \n",
       "1047  5912e037d12774bb73a2048f35a00009.jpg        Baby Care  \n",
       "1048  c3edc504d1b4f0ba6224fa53a43a7ad6.jpg        Baby Care  \n",
       "1049  f2f027ad6a6df617c9f125173da71e44.jpg        Baby Care  \n",
       "\n",
       "[1050 rows x 3 columns]"
      ]
     },
     "execution_count": 5,
     "metadata": {},
     "output_type": "execute_result"
    }
   ],
   "source": [
    "# Verification du dataset\n",
    "data[['description','image','category_general']]"
   ]
  },
  {
   "cell_type": "code",
   "execution_count": 6,
   "id": "2225bf43",
   "metadata": {},
   "outputs": [],
   "source": [
    "# Creation les fichiers appropriés directement sur notebook local\n",
    "data['image'] = data['image'].apply(lambda x: \"../Images/\"+str(x))"
   ]
  },
  {
   "cell_type": "code",
   "execution_count": 7,
   "id": "cd1f964a",
   "metadata": {},
   "outputs": [
    {
     "data": {
      "text/plain": [
       "0       ../Images/55b85ea15a1536d46b7190ad6fff8ce7.jpg\n",
       "1       ../Images/7b72c92c2f6c40268628ec5f14c6d590.jpg\n",
       "2       ../Images/64d5d4a258243731dc7bbb1eef49ad74.jpg\n",
       "3       ../Images/d4684dcdc759dd9cdf41504698d737d8.jpg\n",
       "4       ../Images/6325b6870c54cd47be6ebfbffa620ec7.jpg\n",
       "                             ...                      \n",
       "1045    ../Images/958f54f4c46b53c8a0a9b8167d9140bc.jpg\n",
       "1046    ../Images/fd6cbcc22efb6b761bd564c28928483c.jpg\n",
       "1047    ../Images/5912e037d12774bb73a2048f35a00009.jpg\n",
       "1048    ../Images/c3edc504d1b4f0ba6224fa53a43a7ad6.jpg\n",
       "1049    ../Images/f2f027ad6a6df617c9f125173da71e44.jpg\n",
       "Name: image, Length: 1050, dtype: object"
      ]
     },
     "execution_count": 7,
     "metadata": {},
     "output_type": "execute_result"
    }
   ],
   "source": [
    "data['image'] # verification"
   ]
  },
  {
   "cell_type": "code",
   "execution_count": 8,
   "id": "0cfabda8",
   "metadata": {},
   "outputs": [],
   "source": [
    "from PIL import Image"
   ]
  },
  {
   "cell_type": "code",
   "execution_count": 9,
   "id": "2e413470",
   "metadata": {},
   "outputs": [
    {
     "name": "stderr",
     "output_type": "stream",
     "text": [
      "C:\\Users\\vasub\\anaconda3\\lib\\site-packages\\PIL\\Image.py:2918: DecompressionBombWarning: Image size (93680328 pixels) exceeds limit of 89478485 pixels, could be decompression bomb DOS attack.\n",
      "  warnings.warn(\n"
     ]
    }
   ],
   "source": [
    "data['image'] = data['image'].apply(lambda x:Image.open(x)) # Transformation "
   ]
  },
  {
   "cell_type": "code",
   "execution_count": 10,
   "id": "7fe9ea09",
   "metadata": {},
   "outputs": [
    {
     "data": {
      "text/plain": [
       "0       <PIL.JpegImagePlugin.JpegImageFile image mode=...\n",
       "1       <PIL.JpegImagePlugin.JpegImageFile image mode=...\n",
       "2       <PIL.JpegImagePlugin.JpegImageFile image mode=...\n",
       "3       <PIL.JpegImagePlugin.JpegImageFile image mode=...\n",
       "4       <PIL.JpegImagePlugin.JpegImageFile image mode=...\n",
       "                              ...                        \n",
       "1045    <PIL.JpegImagePlugin.JpegImageFile image mode=...\n",
       "1046    <PIL.JpegImagePlugin.JpegImageFile image mode=...\n",
       "1047    <PIL.JpegImagePlugin.JpegImageFile image mode=...\n",
       "1048    <PIL.JpegImagePlugin.JpegImageFile image mode=...\n",
       "1049    <PIL.JpegImagePlugin.JpegImageFile image mode=...\n",
       "Name: image, Length: 1050, dtype: object"
      ]
     },
     "execution_count": 10,
     "metadata": {},
     "output_type": "execute_result"
    }
   ],
   "source": [
    "data['image']"
   ]
  },
  {
   "cell_type": "code",
   "execution_count": 11,
   "id": "fc40d5f8",
   "metadata": {},
   "outputs": [],
   "source": [
    "# np.array(data.iloc[0]['image']).shape "
   ]
  },
  {
   "cell_type": "code",
   "execution_count": 12,
   "id": "1ac34c34",
   "metadata": {},
   "outputs": [],
   "source": [
    "# on va modifier les dimensions des images en choisissant la même largeur et hauteur\n",
    "data['image'] = data['image'].apply(lambda x: x.resize([224,224])) "
   ]
  },
  {
   "cell_type": "code",
   "execution_count": 13,
   "id": "c263cdb2",
   "metadata": {},
   "outputs": [
    {
     "data": {
      "text/plain": [
       "(224, 224, 3)"
      ]
     },
     "execution_count": 13,
     "metadata": {},
     "output_type": "execute_result"
    }
   ],
   "source": [
    "# On va les sauvegarder comme un tableau numérique avec 3 channels\n",
    "def transp_mat(col):\n",
    "    return np.array(col)\n",
    "\n",
    "data['image'] = data['image'].apply(lambda x: transp_mat(x))\n",
    "np.array(data.iloc[0]['image']).shape"
   ]
  },
  {
   "cell_type": "code",
   "execution_count": 14,
   "id": "d41f9254",
   "metadata": {},
   "outputs": [
    {
     "data": {
      "text/plain": [
       "0       [[[203, 198, 189], [203, 198, 188], [203, 198,...\n",
       "1       [[[255, 255, 255], [255, 255, 255], [255, 255,...\n",
       "2       [[[255, 255, 255], [255, 255, 255], [255, 255,...\n",
       "3       [[[255, 255, 255], [255, 255, 255], [255, 255,...\n",
       "4       [[[82, 77, 71], [123, 114, 111], [155, 147, 14...\n",
       "                              ...                        \n",
       "1045    [[[254, 254, 252], [255, 255, 254], [255, 255,...\n",
       "1046    [[[253, 216, 224], [253, 216, 224], [253, 216,...\n",
       "1047    [[[255, 255, 255], [255, 255, 255], [255, 255,...\n",
       "1048    [[[53, 53, 55], [54, 54, 56], [53, 53, 55], [5...\n",
       "1049    [[[239, 222, 230], [239, 222, 230], [239, 222,...\n",
       "Name: image, Length: 1050, dtype: object"
      ]
     },
     "execution_count": 14,
     "metadata": {},
     "output_type": "execute_result"
    }
   ],
   "source": [
    "data['image']# verification"
   ]
  },
  {
   "cell_type": "code",
   "execution_count": 15,
   "id": "8f5b2e6b",
   "metadata": {},
   "outputs": [
    {
     "name": "stderr",
     "output_type": "stream",
     "text": [
      "C:\\Users\\vasub\\anaconda3\\lib\\site-packages\\pandas\\core\\series.py:1056: SettingWithCopyWarning: \n",
      "A value is trying to be set on a copy of a slice from a DataFrame\n",
      "\n",
      "See the caveats in the documentation: https://pandas.pydata.org/pandas-docs/stable/user_guide/indexing.html#returning-a-view-versus-a-copy\n",
      "  cacher_needs_updating = self._check_is_chained_assignment_possible()\n"
     ]
    }
   ],
   "source": [
    "# Transformation int -> float32\n",
    "for i in range(data.shape[0]):\n",
    "  data.iloc[i]['image'] = data.iloc[i]['image'].astype('float32')\n",
    "  "
   ]
  },
  {
   "cell_type": "code",
   "execution_count": 16,
   "id": "3200ae9a",
   "metadata": {},
   "outputs": [],
   "source": [
    "# Normalisation\n",
    "data['image'] = data['image'].apply(lambda x: x/255)"
   ]
  },
  {
   "cell_type": "code",
   "execution_count": 17,
   "id": "dc8374db",
   "metadata": {},
   "outputs": [
    {
     "data": {
      "text/plain": [
       "0       [[[0.796078431372549, 0.7764705882352941, 0.74...\n",
       "1       [[[1.0, 1.0, 1.0], [1.0, 1.0, 1.0], [1.0, 1.0,...\n",
       "2       [[[1.0, 1.0, 1.0], [1.0, 1.0, 1.0], [1.0, 1.0,...\n",
       "3       [[[1.0, 1.0, 1.0], [1.0, 1.0, 1.0], [1.0, 1.0,...\n",
       "4       [[[0.3215686274509804, 0.30196078431372547, 0....\n",
       "                              ...                        \n",
       "1045    [[[0.996078431372549, 0.996078431372549, 0.988...\n",
       "1046    [[[0.9921568627450981, 0.8470588235294118, 0.8...\n",
       "1047    [[[1.0, 1.0, 1.0], [1.0, 1.0, 1.0], [1.0, 1.0,...\n",
       "1048    [[[0.20784313725490197, 0.20784313725490197, 0...\n",
       "1049    [[[0.9372549019607843, 0.8705882352941177, 0.9...\n",
       "Name: image, Length: 1050, dtype: object"
      ]
     },
     "execution_count": 17,
     "metadata": {},
     "output_type": "execute_result"
    }
   ],
   "source": [
    "data['image'] # verification"
   ]
  },
  {
   "cell_type": "markdown",
   "id": "cc9a8ba3",
   "metadata": {},
   "source": [
    "# Préparation d'entrenement"
   ]
  },
  {
   "cell_type": "code",
   "execution_count": 18,
   "id": "3bc4509f",
   "metadata": {},
   "outputs": [],
   "source": [
    "X = np.array([x for x in data['image']])"
   ]
  },
  {
   "cell_type": "code",
   "execution_count": 19,
   "id": "0cf26b10",
   "metadata": {},
   "outputs": [
    {
     "data": {
      "text/plain": [
       "(1050, 224, 224, 3)"
      ]
     },
     "execution_count": 19,
     "metadata": {},
     "output_type": "execute_result"
    }
   ],
   "source": [
    "X.shape # (pour entrainer nous avons besoin (batch,width, height,channel))"
   ]
  },
  {
   "cell_type": "code",
   "execution_count": 20,
   "id": "56632049",
   "metadata": {},
   "outputs": [],
   "source": [
    "y=data['category_general'] # target"
   ]
  },
  {
   "cell_type": "code",
   "execution_count": 21,
   "id": "c239d8d6",
   "metadata": {},
   "outputs": [],
   "source": [
    "# Transformation text en chiffre \n",
    "from sklearn.preprocessing import LabelEncoder\n",
    "le = LabelEncoder()\n",
    "y = le.fit_transform(y)"
   ]
  },
  {
   "cell_type": "code",
   "execution_count": 22,
   "id": "88f2fc86",
   "metadata": {},
   "outputs": [
    {
     "data": {
      "text/plain": [
       "array([4, 0, 0, ..., 0, 0, 0])"
      ]
     },
     "execution_count": 22,
     "metadata": {},
     "output_type": "execute_result"
    }
   ],
   "source": [
    "y"
   ]
  },
  {
   "cell_type": "code",
   "execution_count": 23,
   "id": "e9417cee",
   "metadata": {},
   "outputs": [],
   "source": [
    "# séparation en 2 parties (entrainement et test)\n",
    "X_train, X_test, y_train, y_test = train_test_split(X, y, test_size=0.33, random_state=42)"
   ]
  },
  {
   "cell_type": "code",
   "execution_count": 24,
   "id": "faed81d9",
   "metadata": {},
   "outputs": [],
   "source": [
    "# OHE\n",
    "y_train_cat = keras.utils.to_categorical(y_train,7)\n",
    "y_test_cat = keras.utils.to_categorical(y_test,7)"
   ]
  },
  {
   "cell_type": "markdown",
   "id": "49dc97c2",
   "metadata": {},
   "source": [
    "# TRANSFER LEARNING (Model VGG16 )"
   ]
  },
  {
   "cell_type": "code",
   "execution_count": 25,
   "id": "321c1038",
   "metadata": {},
   "outputs": [],
   "source": [
    "json_file = open(\"projet_6_vgg_model.json\", \"r\")\n",
    "loaded_model_json  = json_file.read()\n",
    "json_file.close()"
   ]
  },
  {
   "cell_type": "code",
   "execution_count": 26,
   "id": "16fadb1a",
   "metadata": {},
   "outputs": [],
   "source": [
    "loaded_vgg_model = model_from_json(loaded_model_json)"
   ]
  },
  {
   "cell_type": "code",
   "execution_count": 27,
   "id": "3b474143",
   "metadata": {},
   "outputs": [],
   "source": [
    "# Importation the weights\n",
    "loaded_vgg_model.load_weights(\"model_weights_vgg_model.h5\")"
   ]
  },
  {
   "cell_type": "code",
   "execution_count": 28,
   "id": "d4050a18",
   "metadata": {},
   "outputs": [
    {
     "name": "stderr",
     "output_type": "stream",
     "text": [
      "C:\\Users\\vasub\\anaconda3\\lib\\site-packages\\keras\\optimizer_v2\\optimizer_v2.py:355: UserWarning: The `lr` argument is deprecated, use `learning_rate` instead.\n",
      "  warnings.warn(\n"
     ]
    }
   ],
   "source": [
    "loaded_vgg_model.compile(optimizer = keras.optimizers.Adam(lr=1e-5), loss='categorical_crossentropy', metrics=['accuracy'])"
   ]
  },
  {
   "cell_type": "code",
   "execution_count": 29,
   "id": "9d628902",
   "metadata": {},
   "outputs": [
    {
     "name": "stdout",
     "output_type": "stream",
     "text": [
      "Model: \"sequential\"\n",
      "_________________________________________________________________\n",
      "Layer (type)                 Output Shape              Param #   \n",
      "=================================================================\n",
      "block1_conv1 (Conv2D)        (None, 224, 224, 64)      1792      \n",
      "_________________________________________________________________\n",
      "block1_conv2 (Conv2D)        (None, 224, 224, 64)      36928     \n",
      "_________________________________________________________________\n",
      "block1_pool (MaxPooling2D)   (None, 112, 112, 64)      0         \n",
      "_________________________________________________________________\n",
      "block2_conv1 (Conv2D)        (None, 112, 112, 128)     73856     \n",
      "_________________________________________________________________\n",
      "block2_conv2 (Conv2D)        (None, 112, 112, 128)     147584    \n",
      "_________________________________________________________________\n",
      "block2_pool (MaxPooling2D)   (None, 56, 56, 128)       0         \n",
      "_________________________________________________________________\n",
      "block3_conv1 (Conv2D)        (None, 56, 56, 256)       295168    \n",
      "_________________________________________________________________\n",
      "block3_conv2 (Conv2D)        (None, 56, 56, 256)       590080    \n",
      "_________________________________________________________________\n",
      "block3_conv3 (Conv2D)        (None, 56, 56, 256)       590080    \n",
      "_________________________________________________________________\n",
      "block3_pool (MaxPooling2D)   (None, 28, 28, 256)       0         \n",
      "_________________________________________________________________\n",
      "block4_conv1 (Conv2D)        (None, 28, 28, 512)       1180160   \n",
      "_________________________________________________________________\n",
      "block4_conv2 (Conv2D)        (None, 28, 28, 512)       2359808   \n",
      "_________________________________________________________________\n",
      "block4_conv3 (Conv2D)        (None, 28, 28, 512)       2359808   \n",
      "_________________________________________________________________\n",
      "block4_pool (MaxPooling2D)   (None, 14, 14, 512)       0         \n",
      "_________________________________________________________________\n",
      "block5_conv1 (Conv2D)        (None, 14, 14, 512)       2359808   \n",
      "_________________________________________________________________\n",
      "block5_conv2 (Conv2D)        (None, 14, 14, 512)       2359808   \n",
      "_________________________________________________________________\n",
      "block5_conv3 (Conv2D)        (None, 14, 14, 512)       2359808   \n",
      "_________________________________________________________________\n",
      "block5_pool (MaxPooling2D)   (None, 7, 7, 512)         0         \n",
      "_________________________________________________________________\n",
      "flatten (Flatten)            (None, 25088)             0         \n",
      "_________________________________________________________________\n",
      "fc1 (Dense)                  (None, 4096)              102764544 \n",
      "_________________________________________________________________\n",
      "fc2 (Dense)                  (None, 4096)              16781312  \n",
      "_________________________________________________________________\n",
      "dense (Dense)                (None, 7)                 28679     \n",
      "=================================================================\n",
      "Total params: 134,289,223\n",
      "Trainable params: 28,679\n",
      "Non-trainable params: 134,260,544\n",
      "_________________________________________________________________\n"
     ]
    }
   ],
   "source": [
    "loaded_vgg_model.summary()"
   ]
  },
  {
   "cell_type": "markdown",
   "id": "b29d4d7a",
   "metadata": {},
   "source": [
    "#### Tester sur des données de test"
   ]
  },
  {
   "cell_type": "code",
   "execution_count": 30,
   "id": "0d56bb1c",
   "metadata": {},
   "outputs": [
    {
     "name": "stdout",
     "output_type": "stream",
     "text": [
      "11/11 [==============================] - 169s 16s/step - loss: 0.6882 - accuracy: 0.7637\n",
      "Accuracy: 76.37%\n"
     ]
    }
   ],
   "source": [
    "scores = loaded_vgg_model.evaluate(X_test, y_test_cat)\n",
    "print(\"Accuracy: %.2f%%\" % (scores[1]*100))"
   ]
  },
  {
   "cell_type": "markdown",
   "id": "f25cacf8",
   "metadata": {},
   "source": [
    "# Prediction"
   ]
  },
  {
   "cell_type": "code",
   "execution_count": 31,
   "id": "11c7f969",
   "metadata": {},
   "outputs": [],
   "source": [
    "n = 161 # Choisissez le numéro de 0 à 1049\n",
    "X_new = np.expand_dims(X[n],axis=0)"
   ]
  },
  {
   "cell_type": "code",
   "execution_count": 32,
   "id": "70aab033",
   "metadata": {},
   "outputs": [
    {
     "data": {
      "text/plain": [
       "Text(0.5, 1.0, 'Kitchen & Dining')"
      ]
     },
     "execution_count": 32,
     "metadata": {},
     "output_type": "execute_result"
    },
    {
     "data": {
      "image/png": "[encoded data removed]",
      "text/plain": [
       "<Figure size 432x288 with 1 Axes>"
      ]
     },
     "metadata": {
      "needs_background": "light"
     },
     "output_type": "display_data"
    }
   ],
   "source": [
    "pred = loaded_vgg_model.predict(X_new)\n",
    "plt.imshow(X[n])\n",
    "plt.title(le.classes_[np.argmax(pred)])"
   ]
  },
  {
   "cell_type": "markdown",
   "id": "5e830599",
   "metadata": {},
   "source": [
    "# VGG16"
   ]
  },
  {
   "cell_type": "code",
   "execution_count": 33,
   "id": "f2d4bc7d",
   "metadata": {},
   "outputs": [],
   "source": [
    "from tensorflow.keras.applications.vgg16 import decode_predictions, preprocess_input\n",
    "from tensorflow.python.keras.preprocessing import image\n"
   ]
  },
  {
   "cell_type": "code",
   "execution_count": 34,
   "id": "878271d4",
   "metadata": {},
   "outputs": [],
   "source": [
    "model_vgg = tf.keras.applications.vgg16.VGG16()"
   ]
  },
  {
   "cell_type": "code",
   "execution_count": 35,
   "id": "5f170f4a",
   "metadata": {},
   "outputs": [
    {
     "name": "stdout",
     "output_type": "stream",
     "text": [
      "Model: \"vgg16\"\n",
      "_________________________________________________________________\n",
      "Layer (type)                 Output Shape              Param #   \n",
      "=================================================================\n",
      "input_1 (InputLayer)         [(None, 224, 224, 3)]     0         \n",
      "_________________________________________________________________\n",
      "block1_conv1 (Conv2D)        (None, 224, 224, 64)      1792      \n",
      "_________________________________________________________________\n",
      "block1_conv2 (Conv2D)        (None, 224, 224, 64)      36928     \n",
      "_________________________________________________________________\n",
      "block1_pool (MaxPooling2D)   (None, 112, 112, 64)      0         \n",
      "_________________________________________________________________\n",
      "block2_conv1 (Conv2D)        (None, 112, 112, 128)     73856     \n",
      "_________________________________________________________________\n",
      "block2_conv2 (Conv2D)        (None, 112, 112, 128)     147584    \n",
      "_________________________________________________________________\n",
      "block2_pool (MaxPooling2D)   (None, 56, 56, 128)       0         \n",
      "_________________________________________________________________\n",
      "block3_conv1 (Conv2D)        (None, 56, 56, 256)       295168    \n",
      "_________________________________________________________________\n",
      "block3_conv2 (Conv2D)        (None, 56, 56, 256)       590080    \n",
      "_________________________________________________________________\n",
      "block3_conv3 (Conv2D)        (None, 56, 56, 256)       590080    \n",
      "_________________________________________________________________\n",
      "block3_pool (MaxPooling2D)   (None, 28, 28, 256)       0         \n",
      "_________________________________________________________________\n",
      "block4_conv1 (Conv2D)        (None, 28, 28, 512)       1180160   \n",
      "_________________________________________________________________\n",
      "block4_conv2 (Conv2D)        (None, 28, 28, 512)       2359808   \n",
      "_________________________________________________________________\n",
      "block4_conv3 (Conv2D)        (None, 28, 28, 512)       2359808   \n",
      "_________________________________________________________________\n",
      "block4_pool (MaxPooling2D)   (None, 14, 14, 512)       0         \n",
      "_________________________________________________________________\n",
      "block5_conv1 (Conv2D)        (None, 14, 14, 512)       2359808   \n",
      "_________________________________________________________________\n",
      "block5_conv2 (Conv2D)        (None, 14, 14, 512)       2359808   \n",
      "_________________________________________________________________\n",
      "block5_conv3 (Conv2D)        (None, 14, 14, 512)       2359808   \n",
      "_________________________________________________________________\n",
      "block5_pool (MaxPooling2D)   (None, 7, 7, 512)         0         \n",
      "_________________________________________________________________\n",
      "flatten (Flatten)            (None, 25088)             0         \n",
      "_________________________________________________________________\n",
      "fc1 (Dense)                  (None, 4096)              102764544 \n",
      "_________________________________________________________________\n",
      "fc2 (Dense)                  (None, 4096)              16781312  \n",
      "_________________________________________________________________\n",
      "predictions (Dense)          (None, 1000)              4097000   \n",
      "=================================================================\n",
      "Total params: 138,357,544\n",
      "Trainable params: 138,357,544\n",
      "Non-trainable params: 0\n",
      "_________________________________________________________________\n"
     ]
    }
   ],
   "source": [
    "model_vgg.summary()"
   ]
  },
  {
   "cell_type": "code",
   "execution_count": 36,
   "id": "80a12fec",
   "metadata": {},
   "outputs": [],
   "source": [
    "data_new = pd.read_csv('flipkart_com-ecommerce_sample_1050.csv')"
   ]
  },
  {
   "cell_type": "code",
   "execution_count": 37,
   "id": "bca5b5e1",
   "metadata": {},
   "outputs": [],
   "source": [
    "data_new['image'] = data_new['image'].apply(lambda x: \"../Images/\"+str(x))"
   ]
  },
  {
   "cell_type": "code",
   "execution_count": 38,
   "id": "615c8564",
   "metadata": {},
   "outputs": [],
   "source": [
    "num_orig_vgg= 161  # Un numero de 0 à 1049\n"
   ]
  },
  {
   "cell_type": "code",
   "execution_count": 39,
   "id": "23497c99",
   "metadata": {},
   "outputs": [],
   "source": [
    "img = image.load_img(data_new.loc[num_orig_vgg,'image'], target_size=(224,224))\n",
    "x= image.img_to_array(img)\n",
    "x =np.expand_dims(x, axis=0)\n",
    "x = preprocess_input(x)"
   ]
  },
  {
   "cell_type": "code",
   "execution_count": 40,
   "id": "0619916c",
   "metadata": {},
   "outputs": [
    {
     "name": "stdout",
     "output_type": "stream",
     "text": [
      "[('n03063599', 'coffee_mug', 0.9393815), ('n07930864', 'cup', 0.047350686), ('n03733805', 'measuring_cup', 0.008499231)]\n"
     ]
    }
   ],
   "source": [
    "preds = model_vgg.predict(x)\n",
    "print(decode_predictions(preds, top=3)[0])"
   ]
  },
  {
   "cell_type": "code",
   "execution_count": 41,
   "id": "16c73315",
   "metadata": {},
   "outputs": [
    {
     "data": {
      "image/png": "[encoded data removed]",
      "text/plain": [
       "<Figure size 432x288 with 1 Axes>"
      ]
     },
     "metadata": {
      "needs_background": "light"
     },
     "output_type": "display_data"
    }
   ],
   "source": [
    "plt.imshow(Image.open(data_new.loc[num_orig_vgg,'image']))\n",
    "plt.title(decode_predictions(preds, top=1)[0][0][1]);"
   ]
  },
  {
   "cell_type": "code",
   "execution_count": 42,
   "id": "97293300",
   "metadata": {},
   "outputs": [
    {
     "data": {
      "text/plain": [
       "'coffee_mug'"
      ]
     },
     "execution_count": 42,
     "metadata": {},
     "output_type": "execute_result"
    }
   ],
   "source": [
    "decode_predictions(preds, top=1)[0][0][1]"
   ]
  },
  {
   "cell_type": "code",
   "execution_count": null,
   "id": "ff1839a7",
   "metadata": {},
   "outputs": [],
   "source": []
  }
 ],
 "metadata": {
  "kernelspec": {
   "display_name": "Python 3 (ipykernel)",
   "language": "python",
   "name": "python3"
  },
  "language_info": {
   "codemirror_mode": {
    "name": "ipython",
    "version": 3
   },
   "file_extension": ".py",
   "mimetype": "text/x-python",
   "name": "python",
   "nbconvert_exporter": "python",
   "pygments_lexer": "ipython3",
   "version": "3.9.7"
  }
 },
 "nbformat": 4,
 "nbformat_minor": 5
}
